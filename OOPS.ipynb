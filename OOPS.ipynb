{
  "nbformat": 4,
  "nbformat_minor": 0,
  "metadata": {
    "colab": {
      "provenance": []
    },
    "kernelspec": {
      "name": "python3",
      "display_name": "Python 3"
    },
    "language_info": {
      "name": "python"
    }
  },
  "cells": [
    {
      "cell_type": "markdown",
      "source": [
        "Q.1  What is Object-Oriented Programming (OOP)...?\n",
        "Ans.1 Object-Oriented Programming (OOP) is a programming paradigm that structures code around objects rather than functions and logic alone. An object is an instance of a class, which serves as a blueprint defining attributes (data) and behaviors (methods).\n",
        "Core Principles of OOP:\n",
        "- Encapsulation – Bundles data and methods within a class, restricting direct access to the data and protecting it from unintended modification.\n",
        "- Abstraction – Hides complex implementation details and only exposes essential features, making code easier to work with.\n",
        "- Inheritance – Allows one class to inherit attributes and methods from another, promoting code reuse and hierarchical relationships.\n",
        "- Polymorphism – Enables different classes to share the same interface but have different implementations, allowing flexibility in handling objects."
      ],
      "metadata": {
        "id": "PkiSvHjmGVeJ"
      }
    },
    {
      "cell_type": "markdown",
      "source": [
        "Q.2 What is a class in OOP...?\n",
        "Ans.2 a class serves as a blueprint for creating objects. It defines the attributes (variables) and behaviors (methods) that the objects of that class will have. Essentially, a class encapsulates data and functions into a single unit, promoting code reusability and modular design.\n",
        "class Car:\n",
        "    def __init__(self, brand, model):\n",
        "        self.brand = brand\n",
        "        self.model = model\n",
        "\n",
        "    def display_info(self):\n",
        "        return f\"{self.brand} {self.model}\"\n",
        "\n",
        "# Creating an object\n",
        "my_car = Car(\"Toyota\", \"Corolla\")\n",
        "print(my_car.display_info())  # Output: Toyota Corolla\n"
      ],
      "metadata": {
        "id": "cBJdjxrBbJdY"
      }
    },
    {
      "cell_type": "markdown",
      "source": [
        "Q.3 What is an object in OOP..?\n",
        "Ans.3 In Object-Oriented Programming (OOP), an object is an instance of a class. It represents a real-world entity and encapsulates both data (attributes) and behaviors (methods). Objects allow programmers to model complex systems in a structured and reusable way.\n",
        "\n",
        "Based on the surrounding page content, which includes various OOP-related concepts in Python, objects in Python are created from classes using instantiation. When an object is created, it inherits the properties and functionalities defined in the class.\n",
        "\n",
        "class Car:\n",
        "    def __init__(self, brand, model):\n",
        "        self.brand = brand\n",
        "        self.model = model\n",
        "\n",
        "    def display_info(self):\n",
        "        return f\"{self.brand} {self.model}\"\n",
        "\n",
        "# Creating an object\n",
        "my_car = Car(\"Toyota\", \"Corolla\")\n",
        "print(my_car.display_info())  # Output: Toyota Corolla\n"
      ],
      "metadata": {
        "id": "hKr9GT7ubgaP"
      }
    },
    {
      "cell_type": "markdown",
      "source": [
        "Q.4  What is the difference between abstraction and encapsulation..?\n",
        "Ans.4 In Object-Oriented Programming (OOP), abstraction and encapsulation are two fundamental principles that help organize and manage complex software systems efficiently. While they may seem similar, they serve distinct purposes.\n",
        "\n",
        "Abstraction:\n",
        "Abstraction is the process of hiding unnecessary details and exposing only the relevant features of an object. It allows developers to focus on what an object does rather than how it does it. Abstraction is commonly implemented using abstract classes and interfaces.\n",
        "from abc import ABC, abstractmethod\n",
        "\n",
        "class Vehicle(ABC):  # Abstract class\n",
        "    @abstractmethod\n",
        "    def start(self):\n",
        "        pass\n",
        "\n",
        "class Car(Vehicle):  # Concrete class\n",
        "    def start(self):\n",
        "        return \"Car is starting\"\n",
        "\n",
        "my_car = Car()\n",
        "print(my_car.start())  # Output: Car is starting\n",
        "\n",
        "\n",
        "Encapsulation:\n",
        "Encapsulation is the concept of restricting direct access to certain data within a class while allowing controlled interactions through methods. It protects an object’s state by keeping attributes private and providing public getter and setter methods.\n",
        "\n",
        "class BankAccount:\n",
        "    def __init__(self, balance):\n",
        "        self.__balance = balance  # Private attribute\n",
        "\n",
        "    def deposit(self, amount):\n",
        "        self.__balance += amount\n",
        "\n",
        "    def get_balance(self):\n",
        "        return self.__balance\n",
        "\n",
        "account = BankAccount(1000)\n",
        "account.deposit(500)\n",
        "print(account.get_balance())  # Output: 1500\n",
        "\n"
      ],
      "metadata": {
        "id": "My9iFZCybt9y"
      }
    },
    {
      "cell_type": "markdown",
      "source": [
        "Q.5 What are dunder methods in Python...?\n",
        "Ans.5 Dunder methods (short for \"double underscore methods\") in Python are special methods with names that start and end with double underscores (__). These methods allow objects to interact with built-in Python operations such as initialization, representation, comparison, and operator overloading."
      ],
      "metadata": {
        "id": "wsDA9qs2cN3N"
      }
    },
    {
      "cell_type": "markdown",
      "source": [
        "Q.6  Explain the concept of inheritance in OOP..?\n",
        "Ans. Inheritance in Object-Oriented Programming (OOP)\n",
        "Inheritance is one of the key principles of OOP that allows a class (child class) to acquire the properties and behaviors of another class (parent class). This promotes code reusability, hierarchy, and extensibility in software design."
      ],
      "metadata": {
        "id": "4RDTjS8YceBF"
      }
    },
    {
      "cell_type": "markdown",
      "source": [
        "Q.7  What is polymorphism in OOP..?\n",
        "Ans Polymorphism is a core principle of OOP that allows objects of different classes to be treated as objects of a common superclass. This enables code flexibility and reusability, as the same method or operator can work differently based on the object type.\n",
        "\n",
        "How Polymorphism Works\n",
        "It allows methods and functions to operate on different types of objects without knowing their exact class. Polymorphism is typically implemented through method overriding and method overloading.\n",
        "\n",
        "class Bird:\n",
        "    def fly(self):\n",
        "        return \"Some birds can fly\"\n",
        "\n",
        "class Sparrow(Bird):\n",
        "    def fly(self):\n",
        "        return \"Sparrow flies high\"\n",
        "\n",
        "class Penguin(Bird):\n",
        "    def fly(self):\n",
        "        return \"Penguins cannot fly\"\n",
        "\n",
        "# Creating objects\n",
        "bird = Bird()\n",
        "sparrow = Sparrow()\n",
        "penguin = Penguin()\n",
        "\n",
        "print(bird.fly())     # Output: Some birds can fly\n",
        "print(sparrow.fly())  # Output: Sparrow flies high\n",
        "print(penguin.fly())  # Output: Penguins cannot fly\n"
      ],
      "metadata": {
        "id": "MIoQDR6Pcp6R"
      }
    },
    {
      "cell_type": "markdown",
      "source": [
        "Q.8  How is encapsulation achieved in Python..?\n",
        "Ans Encapsulation is a fundamental concept in Object-Oriented Programming (OOP) that restricts direct access to an object's data, ensuring controlled interaction through methods. It enhances data protection and security while maintaining modular code.\n",
        "\n",
        "Python achieves encapsulation using access specifiers:\n",
        "\n",
        "Public Attributes and Methods (attribute) – Accessible from anywhere.\n",
        "\n",
        "Protected Attributes and Methods (_attribute) – Meant to be used within the class and subclasses.\n",
        "\n",
        "Private Attributes and Methods (__attribute) – Hidden from outside access.\n",
        "\n",
        "class BankAccount:\n",
        "    def __init__(self, balance):\n",
        "        self.__balance = balance  # Private attribute\n",
        "\n",
        "    def deposit(self, amount):\n",
        "        self.__balance += amount\n",
        "\n",
        "    def withdraw(self, amount):\n",
        "        if amount <= self.__balance:\n",
        "            self.__balance -= amount\n",
        "        else:\n",
        "            print(\"Insufficient funds\")\n",
        "\n",
        "    def get_balance(self):\n",
        "        return self.__balance\n",
        "\n",
        "account = BankAccount(1000)\n",
        "account.deposit(500)\n",
        "print(account.get_balance())  # Output: 1500\n"
      ],
      "metadata": {
        "id": "nTgFtzFmf0KJ"
      }
    },
    {
      "cell_type": "markdown",
      "source": [
        "Q.9 What is a constructor in Python..?\n",
        "Ans A constructor is a special method in Python that is automatically called when an object is created from a class. Its purpose is to initialize the attributes of the object.\n",
        "\n",
        "How It Works in Python\n",
        "The constructor method in Python is defined using __init__.\n",
        "\n",
        "It ensures that object attributes have default values upon creation.\n",
        "\n",
        "Types of Constructors in Python\n",
        "Default Constructor – Does not take arguments except self.\n",
        "\n",
        "Parameterized Constructor – Takes parameters to initialize attributes.\n",
        "\n",
        "Constructor Overloading – Python does not support true constructor overloading, but default arguments can simulate it.\n",
        "class Car:\n",
        "    def __init__(self, brand, model):\n",
        "        self.brand = brand\n",
        "        self.model = model\n",
        "\n",
        "    def display_info(self):\n",
        "        return f\"{self.brand} {self.model}\"\n",
        "\n",
        "# Creating an object\n",
        "my_car = Car(\"Toyota\", \"Corolla\")\n",
        "print(my_car.display_info())  # Output: Toyota Corolla\n"
      ],
      "metadata": {
        "id": "HSYTpI_9gLIw"
      }
    },
    {
      "cell_type": "markdown",
      "source": [
        "Q.10  What are class and static methods in Python..?\n",
        "Ans lass and Static Methods in Python\n",
        "In Python, both class methods and static methods are used to define special types of functions inside a class, but they serve different purposes.\n",
        "\n",
        "1. Class Methods (@classmethod)\n",
        "A class method operates on the class itself rather than on an instance. It is defined using the @classmethod decorator and takes cls (representing the class) as its first parameter.\n",
        "\n",
        "2. Static Methods (@staticmethod)\n",
        "A static method does not operate on class or instance attributes. It is defined using the @staticmethod decorator and does not require self or cls."
      ],
      "metadata": {
        "id": "I46K8K0Jgyhp"
      }
    },
    {
      "cell_type": "markdown",
      "source": [
        "Q.11  What is method overloading in Python..?\n",
        "Ans. Method Overloading in Python\n",
        "Method overloading refers to the ability to define multiple methods with the same name but different parameters. In many programming languages, this allows a function to behave differently based on the number or type of arguments provided. However, Python does not support true method overloading like Java or C++.\n",
        "\n",
        "Simulating Method Overloading in Python\n",
        "Since Python doesn't support method overloading directly, it can be simulated using:\n",
        "\n",
        "Default Arguments – Using default values to handle multiple scenarios.\n",
        "\n",
        "Variable Arguments (*args and **kwargs) – Allowing flexible parameter handling."
      ],
      "metadata": {
        "id": "QWMq9ESghRtU"
      }
    },
    {
      "cell_type": "markdown",
      "source": [
        "Q.12 What is method overriding in OOP..?\n",
        "Ans Method Overriding in Object-Oriented Programming (OOP)\n",
        "Method overriding is an OOP feature that allows a child class to redefine a method inherited from its parent class. This enables the child class to provide a custom implementation while keeping the same method name and parameters."
      ],
      "metadata": {
        "id": "tccvBJbBhm3W"
      }
    },
    {
      "cell_type": "markdown",
      "source": [
        "Q.13 What is a property decorator in Python..?\n",
        "Ans The property decorator (@property) in Python is used to define getter methods, allowing controlled access to an attribute without directly exposing it. This promotes encapsulation and ensures attribute modifications follow predefined rules."
      ],
      "metadata": {
        "id": "5DF8tzf8h1v2"
      }
    },
    {
      "cell_type": "markdown",
      "source": [
        "Q.14 Why is polymorphism important in OOP..?\n",
        "Ans Polymorphism is a fundamental concept in OOP that enhances flexibility, scalability, and code reusability by allowing objects of different classes to be treated as objects of a common superclass. This makes programs more efficient and adaptable.\n",
        "\n",
        "Key Benefits of Polymorphism\n",
        "Code Reusability\n",
        "\n",
        "The same method can be used across multiple classes, avoiding redundant code.\n",
        "\n",
        "Example: A base class Animal can define a method speak(), and subclasses (Dog, Cat) override it with their own implementations.\n",
        "\n",
        "Scalability & Extensibility\n",
        "\n",
        "New classes can be added without modifying existing code.\n",
        "\n",
        "Example: If a new subclass Bird is added to Animal, the existing code doesn't need to change.\n",
        "\n",
        "Dynamic Method Dispatch\n",
        "\n",
        "Method calls are resolved at runtime, ensuring the correct implementation is used."
      ],
      "metadata": {
        "id": "4ez112qeiDd3"
      }
    },
    {
      "cell_type": "markdown",
      "source": [
        "Q.15 What is an abstract class in Python..?\n",
        "Ans Abstract Class in Python\n",
        "An abstract class in Python is a class that cannot be instantiated on its own. It serves as a blueprint for other classes, enforcing the implementation of specific methods in derived classes. Abstract classes are defined using the ABC (Abstract Base Class) module from the abc library.\n",
        "How Abstract Classes Work\n",
        "They contain abstract methods that must be implemented in subclasses.\n",
        "\n",
        "They can have regular methods that subclasses inherit.\n",
        "\n",
        "They promote code reusability and consistency in an application."
      ],
      "metadata": {
        "id": "JM5CrygtjuJF"
      }
    },
    {
      "cell_type": "markdown",
      "source": [
        "Q.16 What are the advantages of OOP..?\n",
        "Ans. Advantages of Object-Oriented Programming (OOP)\n",
        "Object-Oriented Programming (OOP) offers several benefits that make software development more structured, efficient, and scalable. Based on the surrounding page content, which covers various OOP principles, here are the main advantages:\n",
        "\n",
        "1. Modularity & Code Reusability\n",
        "OOP promotes modular design by organizing code into classes and objects.\n",
        "\n",
        "Once a class is defined, it can be reused across multiple programs, reducing duplication.\n",
        "\n",
        "Example: A Vehicle class can be reused in programs that deal with cars, bikes, and trucks.\n",
        "\n",
        "2. Encapsulation Enhances Security\n",
        "Encapsulation restricts direct access to an object's data by using private attributes.\n",
        "\n",
        "It ensures data integrity by controlling how attributes are modified via methods.\n",
        "\n",
        "Example: A BankAccount class with a private balance attribute prevents unauthorized modifications.\n",
        "\n",
        "3. Inheritance Promotes Extensibility\n",
        "Inheritance allows new classes (child classes) to use attributes and methods from parent classes.\n",
        "\n",
        "This eliminates redundant code and ensures consistency across related classes.\n",
        "\n",
        "Example: A Employee class can be inherited by Manager, adding extra functionality like bonuses.\n",
        "\n",
        "4. Polymorphism Improves Code Flexibility\n",
        "Polymorphism enables methods to work differently based on the object type.\n",
        "\n",
        "Developers can write a single function that handles multiple object types without modifying the logic.\n",
        "\n",
        "Example: A method make_sound() can be applied to Dog (returns \"Bark!\") and Cat (returns \"Meow!\") without changing the structure.\n",
        "\n",
        "5. Data Abstraction Simplifies Complexity\n",
        "Abstraction hides unnecessary details while exposing only essential features.\n",
        "\n",
        "It simplifies software design, making it easier to maintain and understand.\n",
        "\n",
        "Example: A Car class might expose start_engine(), while hiding the complexities of internal combustion.\n",
        "\n",
        "6. Scalability & Maintainability\n",
        "OOP makes projects easier to scale by allowing new features to be added without modifying existing code.\n",
        "\n",
        "Debugging is simplified because code is organized into independent classes.\n",
        "\n",
        "7. Real-World Modeling\n",
        "OOP closely resembles real-world concepts, making software development intuitive and efficient.\n",
        "\n",
        "Example: In a banking system, objects like Customer, Transaction, and Account help model real-world entities."
      ],
      "metadata": {
        "id": "FKdPszjkkBhI"
      }
    },
    {
      "cell_type": "markdown",
      "source": [
        "Q.17 What is the difference between a class variable and an instance variable..?\n",
        "Ans n Python's Object-Oriented Programming (OOP), class variables and instance variables are two types of attributes used to store data, but they differ in scope and usage.\n",
        "\n",
        "1. Class Variables\n",
        "Defined inside a class, but outside any instance methods.\n",
        "\n",
        "Shared among all instances of the class.\n",
        "Changes made to a class variable affect all instances.\n",
        "2. Instance Variables\n",
        "Defined inside the constructor (__init__).\n",
        "\n",
        "Unique to each instance of the class.\n",
        "Changes only affect the specific object.\n"
      ],
      "metadata": {
        "id": "Wb4Wkm3ZkpfI"
      }
    },
    {
      "cell_type": "markdown",
      "source": [
        "Q.18  What is multiple inheritance in Python..?\n",
        "Ans Multiple Inheritance in Python\n",
        "Multiple inheritance is a feature in Python that allows a child class to inherit attributes and methods from more than one parent class. This is useful when a class needs functionality from multiple independent sources.\n",
        "\n",
        "How Multiple Inheritance Works\n",
        "The child class inherits all the properties of the parent classes.\n",
        "\n",
        "Python resolves conflicts using the Method Resolution Order (MRO), ensuring proper method execution.\n"
      ],
      "metadata": {
        "id": "YWnPjewRlKL3"
      }
    },
    {
      "cell_type": "markdown",
      "source": [
        "Q.19 Explain the purpose of ‘’__str__’ and ‘__repr__’ ‘ methods in Python..?\n",
        "Ans Purpose of __str__ and __repr__ Methods in Python\n",
        "Python provides dunder (double underscore) methods like __str__ and __repr__ for string representation of objects. These methods help in formatting and displaying objects in a more readable and informative way.\n",
        "\n",
        "1. __str__: User-Friendly Representation\n",
        "The __str__ method is designed to return a human-readable string representation of an object.\n",
        "\n",
        "It is invoked when using str(object) or print(object).\n",
        "\n",
        "2. __repr__: Developer-Friendly Representation\n",
        "The __repr__ method returns a formal string representation used for debugging.\n",
        "\n",
        "It is invoked when using repr(object) or when typing an object directly in the console.\n",
        "  "
      ],
      "metadata": {
        "id": "IIrqrAqbmFDi"
      }
    },
    {
      "cell_type": "markdown",
      "source": [
        "Q.20  What is the significance of the ‘super()’ function in Python..?\n",
        "Ans Significance of the super() Function in Python\n",
        "The super() function in Python is used to access methods of a parent class from within a child class. It is primarily used in inheritance to avoid redundant code, ensure proper method resolution, and facilitate polymorphism.\n",
        "\n",
        "Why Is super() Important?\n",
        "Avoids redundant code – Allows reuse of parent class methods in subclasses.\n",
        "\n",
        "Supports multiple inheritance – Ensures correct method resolution.\n",
        "\n",
        "Enhances maintainability – Makes modifications easier by centralizing method logic.\n",
        "\n",
        "Example: Using super() in Method Overriding\n",
        "class Animal:\n",
        "    def speak(self):\n",
        "        return \"Animal makes a sound\"\n",
        "\n",
        "class Dog(Animal):\n",
        "    def speak(self):\n",
        "        return super().speak() + \" but specifically, Bark!\"\n",
        "\n",
        "dog = Dog()\n",
        "print(dog.speak())  # Output: Animal makes a sound but specifically, Bark!\n",
        "\n",
        "\n"
      ],
      "metadata": {
        "id": "bMiY7wlZmfaf"
      }
    },
    {
      "cell_type": "markdown",
      "source": [
        "Q.21  What is the significance of the __del__ method in Python..?\n",
        "Ans. Significance of the __del__ Method in Python\n",
        "The __del__ method in Python is known as the destructor method. It is automatically called when an object is about to be deleted, helping in resource management and cleanup.\n",
        "\n",
        "Key Purposes of __del__\n",
        "Resource Cleanup – Ensures objects release resources like file handles or database connections.\n",
        "Automatic Execution – Gets triggered when an object goes out of scope or is explicitly deleted using del.\n",
        "\n",
        "Garbage Collection Support – Works with Python’s garbage collector to remove unnecessary objects.\n",
        "\n",
        "Important Considerations\n",
        "Python's garbage collector automatically destroys unreachable objects, but __del__ helps handle cleanup explicitly.\n",
        "\n",
        "Avoid relying too much on __del__, as circular references can delay its execution."
      ],
      "metadata": {
        "id": "Oa5nR_17nLcw"
      }
    },
    {
      "cell_type": "markdown",
      "source": [
        "Q.22  What is the difference between @staticmethod and @classmethod in Python..?\n",
        "Ans. Difference Between @staticmethod and @classmethod in Python\n",
        "Both static methods and class methods in Python are used to define methods inside a class that do not require access to instance attributes. However, they serve different purposes.\n",
        "\n",
        "1. Class Methods (@classmethod)\n",
        "A class method is associated with the class itself rather than an instance. It is defined using the @classmethod decorator and takes cls as its first parameter.\n",
        "class Person:\n",
        "    count = 0  # Class attribute\n",
        "    \n",
        "    def __init__(self, name):\n",
        "        self.name = name\n",
        "        Person.count += 1\n",
        "\n",
        "    @classmethod\n",
        "    def get_count(cls):\n",
        "        return cls.count\n",
        "\n",
        "# Creating objects\n",
        "p1 = Person(\"Alice\")\n",
        "p2 = Person(\"Bob\")\n",
        "\n",
        "print(Person.get_count())  # Output: 2\n",
        "\n",
        "\n",
        "2. Static Methods (@staticmethod)\n",
        "A static method does not interact with instance or class attributes. It is defined using the @staticmethod decorator and behaves like a normal function inside a class.\n",
        "class MathOperations:\n",
        "    @staticmethod\n",
        "    def add(a, b):\n",
        "        return a + b\n",
        "\n",
        "print(MathOperations.add(5, 10))  # Output: 15\n"
      ],
      "metadata": {
        "id": "RZuBjxg4npwz"
      }
    },
    {
      "cell_type": "markdown",
      "source": [
        "Q.23 How does polymorphism work in Python with inheritance..?\n",
        "Ans Polymorphism in Python with Inheritance\n",
        "Polymorphism in Python allows objects from different classes to be treated as instances of a common superclass. This means that a single method name can be used to perform different behaviors depending on the object calling it.\n",
        "\n",
        "How Polymorphism Works with Inheritance\n",
        "In inheritance, a parent class defines a method, and child classes override or extend it to implement different behaviors. At runtime, Python determines which method to execute based on the object type.\n",
        "\n",
        "Why Is Polymorphism Useful?\n",
        "Flexible Code: Functions can handle multiple object types.\n",
        "\n",
        "Extensibility: Adding new subclasses doesn’t require modifying existing code.\n",
        "\n",
        "Reduces Redundancy: One method name serves different implementations dynamically."
      ],
      "metadata": {
        "id": "Rw0_tc5HoRBO"
      }
    },
    {
      "cell_type": "markdown",
      "source": [
        "Q.24  What is method chaining in Python OOP..?\n",
        "Ans Method Chaining in Python OOP\n",
        "Method chaining is a programming technique in Python Object-Oriented Programming (OOP) where multiple methods are called sequentially on the same object within a single statement. This is achieved by returning self from each method so that the next method call continues on the same object.\n",
        "\n",
        "How Method Chaining Works\n",
        "Each method in a class returns self (the current instance).\n",
        "\n",
        "This allows the next method to be called immediately on the same object.\n",
        "\n",
        "Benefits of Method Chaining\n",
        "Improves Code Readability – Reduces repetition by calling multiple methods in a single statement.\n",
        "\n",
        "Streamlines Object Modifications – Allows multiple attribute updates without separate calls.\n",
        "\n",
        "Encapsulates Behavior – Ensures a cleaner and structured approach to modifying objects.\n"
      ],
      "metadata": {
        "id": "PhweR0T7qFuv"
      }
    },
    {
      "cell_type": "markdown",
      "source": [
        "Q.25 What is the purpose of the __call__ method in Python..?\n",
        "Ans. Purpose of the __call__ Method in Python\n",
        "The __call__ method in Python allows instances of a class to be called like functions, meaning an object can behave like a regular function when invoked.\n",
        "\n",
        "Key Purposes of __call__\n",
        "Makes objects callable – Allows objects to be used like functions.\n",
        "\n",
        "Encapsulates functionality – Enables custom invocation behavior inside classes.\n",
        "\n",
        "Enhances readability – Simplifies function calls in OOP designs."
      ],
      "metadata": {
        "id": "VaCy77MVqdf9"
      }
    },
    {
      "cell_type": "code",
      "source": [
        "''' Q.1  Create a parent class Animal with a method speak() that prints a generic message. Create a child class Dog\n",
        "that overrides the speak() method to print \"Bark!\" '''\n",
        "class Animal:\n",
        "    def speak(self):\n",
        "        print(\"Animal makes a sound\")\n",
        "\n",
        "class Dog(Animal):\n",
        "    def speak(self):\n",
        "        print(\"Bark!\")\n",
        "\n",
        "a = Animal()\n",
        "a.speak()  # Output: Animal makes a sound\n",
        "\n",
        "d = Dog()\n",
        "d.speak()  # Output: Bark!"
      ],
      "metadata": {
        "colab": {
          "base_uri": "https://localhost:8080/"
        },
        "id": "u12RUCA5rJCW",
        "outputId": "cd5c89de-0fa5-4245-9561-0090c6b5a234"
      },
      "execution_count": null,
      "outputs": [
        {
          "output_type": "stream",
          "name": "stdout",
          "text": [
            "Animal makes a sound\n",
            "Bark!\n"
          ]
        }
      ]
    },
    {
      "cell_type": "code",
      "source": [
        "'''Q.2  Write a program to create an abstract class Shape with a method area(). Derive classes Circle and Rectangle\n",
        "from it and implement the area() method in both.'''\n",
        "# Ans.2\n",
        "from abc import ABC, abstractmethod\n",
        "\n",
        "from abc import ABC, abstractmethod\n",
        "\n",
        "class Shape(ABC):  # Abstract class\n",
        "    @abstractmethod\n",
        "    def area(self):\n",
        "        pass  # Enforcing area() implementation in child classes\n",
        "\n",
        "class Circle(Shape):  # Derived class\n",
        "    def __init__(self, radius):\n",
        "        self.radius = radius\n",
        "\n",
        "    def area(self):\n",
        "        return 3.14 * self.radius * self.radius\n",
        "\n",
        "class Rectangle(Shape):  # Derived class\n",
        "    def __init__(self, width, height):\n",
        "        self.width = width\n",
        "        self.height = height\n",
        "\n",
        "    def area(self):\n",
        "        return self.width * self.height\n",
        "\n",
        "# Creating objects\n",
        "circle = Circle(5)\n",
        "rectangle = Rectangle(4, 6)\n",
        "\n",
        "print(\"Circle Area:\", circle.area())       # Output: Circle Area: 78.5\n",
        "print(\"Rectangle Area:\", rectangle.area()) # Output: Rectangle Area: 24\n"
      ],
      "metadata": {
        "colab": {
          "base_uri": "https://localhost:8080/"
        },
        "id": "FBDL_b6Krqjm",
        "outputId": "8afb902c-17e6-42c7-f04a-fd0c84382e4e"
      },
      "execution_count": null,
      "outputs": [
        {
          "output_type": "stream",
          "name": "stdout",
          "text": [
            "Circle Area: 78.5\n",
            "Rectangle Area: 24\n"
          ]
        }
      ]
    },
    {
      "cell_type": "code",
      "source": [
        "'''#Q.3  Implement a multi-level inheritance scenario where a class Vehicle has an attribute type. Derive a class Car\n",
        "and further derive a class ElectricCar that adds a battery attribute.'''\n",
        "#Ans\n",
        "class Vehicle:\n",
        "    def __init__(self, vehicle_type):\n",
        "        self.vehicle_type = vehicle_type\n",
        "\n",
        "    def display_type(self):\n",
        "        return f\"Vehicle Type: {self.vehicle_type}\"\n",
        "\n",
        "class Car(Vehicle):  # Inheriting from Vehicle\n",
        "    def __init__(self, brand, model, vehicle_type=\"Car\"):\n",
        "        super().__init__(vehicle_type)\n",
        "        self.brand = brand\n",
        "        self.model = model\n",
        "\n",
        "    def display_info(self):\n",
        "        return f\"{self.brand} {self.model}, {self.display_type()}\"\n",
        "\n",
        "class ElectricCar(Car):  # Inheriting from Car\n",
        "    def __init__(self, brand, model, battery_capacity):\n",
        "        super().__init__(brand, model)\n",
        "        self.battery_capacity = battery_capacity\n",
        "\n",
        "    def display_electric_info(self):\n",
        "        return f\"{self.display_info()}, Battery: {self.battery_capacity} kWh\"\n",
        "\n",
        "# Creating objects\n",
        "vehicle = Vehicle(\"Truck\")\n",
        "car = Car(\"Toyota\", \"Corolla\")\n",
        "electric_car = ElectricCar(\"Tesla\", \"Model S\", 100)\n",
        "\n",
        "print(vehicle.display_type())         # Output: Vehicle Type: Truck\n",
        "print(car.display_info())             # Output: Toyota Corolla, Vehicle Type: Car\n",
        "print(electric_car.display_electric_info())  # Output: Tesla Model S, Vehicle Type: Car, Battery: 100 kWh\n"
      ],
      "metadata": {
        "colab": {
          "base_uri": "https://localhost:8080/"
        },
        "id": "WasXqu8YsRCz",
        "outputId": "e7695cd5-d313-4531-d0ee-6663b84a1bb0"
      },
      "execution_count": null,
      "outputs": [
        {
          "output_type": "stream",
          "name": "stdout",
          "text": [
            "Vehicle Type: Truck\n",
            "Toyota Corolla, Vehicle Type: Car\n",
            "Tesla Model S, Vehicle Type: Car, Battery: 100 kWh\n"
          ]
        }
      ]
    },
    {
      "cell_type": "code",
      "source": [
        "'''Q.4  Demonstrate polymorphism by creating a base class Bird with a method fly(). Create two derived classes\n",
        "Sparrow and Penguin that override the fly() method...?'''\n",
        "#Ans\n",
        "class Bird:\n",
        "    def fly(self):\n",
        "        return \"Some birds can fly\"\n",
        "\n",
        "class Sparrow(Bird):\n",
        "    def fly(self):\n",
        "        return \"Sparrow flies high\"\n",
        "\n",
        "class Penguin(Bird):\n",
        "    def fly(self):\n",
        "        return \"Penguins cannot fly\"\n",
        "\n",
        "# Function demonstrating polymorphism\n",
        "def bird_flight(bird):\n",
        "    print(bird.fly())\n",
        "\n",
        "# Creating objects\n",
        "sparrow = Sparrow()\n",
        "penguin = Penguin()\n",
        "\n",
        "bird_flight(sparrow)  # Output: Sparrow flies high\n",
        "bird_flight(penguin)  # Output: Penguins cannot fly\n",
        "\n"
      ],
      "metadata": {
        "colab": {
          "base_uri": "https://localhost:8080/"
        },
        "id": "Pm1L7jMvswHk",
        "outputId": "af7fe0dc-51f5-422b-f02f-775ae48d2be6"
      },
      "execution_count": null,
      "outputs": [
        {
          "output_type": "stream",
          "name": "stdout",
          "text": [
            "Sparrow flies high\n",
            "Penguins cannot fly\n"
          ]
        }
      ]
    },
    {
      "cell_type": "markdown",
      "source": [],
      "metadata": {
        "id": "MFlFQ7BVqtO7"
      }
    },
    {
      "cell_type": "code",
      "source": [
        "'''Q.5  Write a program to demonstrate encapsulation by creating a class BankAccount with private attributes\n",
        "balance and methods to deposit, withdraw, and check balance...?'''\n",
        "#Ans\n",
        "class BankAccount:\n",
        "    def __init__(self, balance):\n",
        "        self.__balance = balance  # Private attribute\n",
        "\n",
        "    def deposit(self, amount):\n",
        "        \"\"\"Method to deposit money\"\"\"\n",
        "        if amount > 0:\n",
        "            self.__balance += amount\n",
        "            print(f\"Deposited: {amount}\")\n",
        "        else:\n",
        "            print(\"Deposit amount must be positive!\")\n",
        "\n",
        "    def withdraw(self, amount):\n",
        "        \"\"\"Method to withdraw money\"\"\"\n",
        "        if 0 < amount <= self.__balance:\n",
        "            self.__balance -= amount\n",
        "            print(f\"Withdrawn: {amount}\")\n",
        "        else:\n",
        "            print(\"Invalid withdrawal amount or insufficient funds!\")\n",
        "\n",
        "    def get_balance(self):\n",
        "        \"\"\"Method to check balance\"\"\"\n",
        "        return self.__balance\n",
        "\n",
        "# Creating an object\n",
        "account = BankAccount(1000)\n",
        "\n",
        "# Using encapsulated methods\n",
        "account.deposit(500)\n",
        "account.withdraw(200)\n",
        "print(\"Current Balance:\", account.get_balance())  # Output: Current Balance: 1300\n"
      ],
      "metadata": {
        "colab": {
          "base_uri": "https://localhost:8080/"
        },
        "id": "ogDm1vbqt04p",
        "outputId": "bb760a3c-8b6b-4b7e-c046-3d9ab11e0ba8"
      },
      "execution_count": null,
      "outputs": [
        {
          "output_type": "stream",
          "name": "stdout",
          "text": [
            "Deposited: 500\n",
            "Withdrawn: 200\n",
            "Current Balance: 1300\n"
          ]
        }
      ]
    },
    {
      "cell_type": "code",
      "source": [
        "'''Q.6  Demonstrate runtime polymorphism using a method play() in a base class Instrument. Derive classes Guitar\n",
        "and Piano that implement their own version of play()...?'''\n",
        "#Ans.6\n",
        "class Instrument:\n",
        "    def play(self):\n",
        "        return \"Playing an instrument\"\n",
        "\n",
        "class Guitar(Instrument):\n",
        "    def play(self):\n",
        "        return \"Strumming the guitar\"\n",
        "\n",
        "class Piano(Instrument):\n",
        "    def play(self):\n",
        "        return \"Playing the piano keys\"\n",
        "\n",
        "# Function demonstrating polymorphism\n",
        "def perform(instrument):\n",
        "    print(instrument.play())\n",
        "\n",
        "# Creating objects\n",
        "guitar = Guitar()\n",
        "piano = Piano()\n",
        "\n",
        "perform(guitar)  # Output: Strumming the guitar\n",
        "perform(piano)   # Output: Playing the piano keys\n"
      ],
      "metadata": {
        "colab": {
          "base_uri": "https://localhost:8080/"
        },
        "id": "8Pq0M0NguVQP",
        "outputId": "9847578e-b1d4-4c26-90f9-b702ded012e3"
      },
      "execution_count": null,
      "outputs": [
        {
          "output_type": "stream",
          "name": "stdout",
          "text": [
            "Strumming the guitar\n",
            "Playing the piano keys\n"
          ]
        }
      ]
    },
    {
      "cell_type": "code",
      "source": [
        "'''Q.7  Create a class MathOperations with a class method add_numbers() to add two numbers and a static\n",
        "method subtract_numbers() to subtract two numbers...?'''\n",
        "#Ans.7\n",
        "class MathOperations:\n",
        "    @classmethod\n",
        "    def add_numbers(cls, a, b):\n",
        "        return a + b  # Class method for addition\n",
        "\n",
        "    @staticmethod\n",
        "    def subtract_numbers(a, b):\n",
        "        return a - b  # Static method for subtraction\n",
        "\n",
        "# Using the class method\n",
        "sum_result = MathOperations.add_numbers(5, 3)\n",
        "print(\"Sum:\", sum_result)  # Output: Sum: 8\n",
        "\n",
        "# Using the static method\n",
        "difference_result = MathOperations.subtract_numbers(10, 4)\n",
        "print(\"Difference:\", difference_result)  # Output: Difference: 6\n"
      ],
      "metadata": {
        "colab": {
          "base_uri": "https://localhost:8080/"
        },
        "id": "nnpKcuyyukpK",
        "outputId": "38737397-ffb3-4565-80a1-2e06b745a506"
      },
      "execution_count": null,
      "outputs": [
        {
          "output_type": "stream",
          "name": "stdout",
          "text": [
            "Sum: 8\n",
            "Difference: 6\n"
          ]
        }
      ]
    },
    {
      "cell_type": "code",
      "source": [
        "'''Q.8  Implement a class Person with a class method to count the total number of persons created...?'''\n",
        "#Ans.8\n",
        "class Person:\n",
        "    count = 0  # Class variable to track total persons\n",
        "\n",
        "    def __init__(self, name):\n",
        "        self.name = name\n",
        "        Person.count += 1  # Increment the count when a new instance is created\n",
        "\n",
        "    @classmethod\n",
        "    def total_persons(cls):\n",
        "        return f\"Total persons created: {cls.count}\"\n",
        "\n",
        "# Creating objects\n",
        "p1 = Person(\"Alice\")\n",
        "p2 = Person(\"Bob\")\n",
        "p3 = Person(\"Charlie\")\n",
        "\n",
        "# Calling the class method\n",
        "print(Person.total_persons())  # Output: Total persons created: 3\n"
      ],
      "metadata": {
        "colab": {
          "base_uri": "https://localhost:8080/"
        },
        "id": "lx5RFbhbuzgm",
        "outputId": "78f7cb8c-63c5-47c8-bd3e-e23fef87d820"
      },
      "execution_count": null,
      "outputs": [
        {
          "output_type": "stream",
          "name": "stdout",
          "text": [
            "Total persons created: 3\n"
          ]
        }
      ]
    },
    {
      "cell_type": "code",
      "source": [
        "'''Q.9  Write a class Fraction with attributes numerator and denominator. Override the str method to display the\n",
        "fraction as \"numerator/denominator\"...?'''\n",
        "#Ans.9\n",
        "class Fraction:\n",
        "    def __init__(self, numerator, denominator):\n",
        "        self.numerator = numerator\n",
        "        self.denominator = denominator\n",
        "\n",
        "    def __str__(self):\n",
        "        return f\"{self.numerator}/{self.denominator}\"\n",
        "\n",
        "# Creating fraction objects\n",
        "fraction1 = Fraction(3, 4)\n",
        "fraction2 = Fraction(5, 8)\n",
        "\n",
        "print(fraction1)  # Output: 3/4\n",
        "print(fraction2)  # Output: 5/8\n"
      ],
      "metadata": {
        "colab": {
          "base_uri": "https://localhost:8080/"
        },
        "id": "udmhd1bTvMei",
        "outputId": "9361509a-c4d8-41cd-f941-e01952bc4de1"
      },
      "execution_count": null,
      "outputs": [
        {
          "output_type": "stream",
          "name": "stdout",
          "text": [
            "3/4\n",
            "5/8\n"
          ]
        }
      ]
    },
    {
      "cell_type": "code",
      "source": [
        "'''Q.10  Demonstrate operator overloading by creating a class Vector and overriding the add method to add two\n",
        "vectors...?'''\n",
        "#Ans\n",
        "class Vector:\n",
        "    def __init__(self, x, y):\n",
        "        self.x = x\n",
        "        self.y = y\n",
        "\n",
        "    def __add__(self, other):\n",
        "        return Vector(self.x + other.x, self.y + other.y)\n",
        "\n",
        "    def __str__(self):\n",
        "        return f\"({self.x}, {self.y})\"\n",
        "\n",
        "# Creating vector objects\n",
        "vector1 = Vector(3, 4)\n",
        "vector2 = Vector(5, 6)\n",
        "\n",
        "# Using overloaded `+` operator\n",
        "result = vector1 + vector2\n",
        "print(result)  # Output: (8, 10)\n"
      ],
      "metadata": {
        "colab": {
          "base_uri": "https://localhost:8080/"
        },
        "id": "OSP-PlqJvd3e",
        "outputId": "f11f0fa3-6231-44c5-a21e-4a8d78d287a9"
      },
      "execution_count": null,
      "outputs": [
        {
          "output_type": "stream",
          "name": "stdout",
          "text": [
            "(8, 10)\n"
          ]
        }
      ]
    },
    {
      "cell_type": "code",
      "source": [
        "'''Q.11  Create a class Person with attributes name and age. Add a method greet() that prints \"Hello, my name is\n",
        "{name} and I am {age} years old...?'''\n",
        "#Ans\n",
        "class Person:\n",
        "    def __init__(self, name, age):\n",
        "        self.name = name\n",
        "        self.age = age\n",
        "\n",
        "    def greet(self):\n",
        "        print(f\"Hello, my name is {self.name} and I am {self.age} years old.\")\n",
        "\n",
        "# Creating a Person object\n",
        "person1 = Person(\"Alice\", 25)\n",
        "\n",
        "# Calling the greet method\n",
        "person1.greet()  # Output: Hello, my name is Alice and I am 25 years old.\n"
      ],
      "metadata": {
        "colab": {
          "base_uri": "https://localhost:8080/"
        },
        "id": "2Mzl31zvv0qW",
        "outputId": "c4c8b821-82e3-4527-906e-15ad02da3dde"
      },
      "execution_count": null,
      "outputs": [
        {
          "output_type": "stream",
          "name": "stdout",
          "text": [
            "Hello, my name is Alice and I am 25 years old.\n"
          ]
        }
      ]
    },
    {
      "cell_type": "code",
      "source": [
        "'''Q.12  Implement a class Student with attributes name and grades. Create a method average_grade() to compute\n",
        "the average of the grades..?'''\n",
        "#Ans\n",
        "class Student:\n",
        "    def __init__(self, name, grades):\n",
        "        self.name = name\n",
        "        self.grades = grades  # List of grades\n",
        "\n",
        "    def average_grade(self):\n",
        "        return sum(self.grades) / len(self.grades) if self.grades else 0\n",
        "\n",
        "# Creating a Student object\n",
        "student1 = Student(\"Alice\", [85, 90, 78, 92])\n",
        "\n",
        "# Calling the average_grade method\n",
        "print(f\"{student1.name}'s Average Grade:\", student1.average_grade())  # Output: Alice's Average Grade: 86.25\n"
      ],
      "metadata": {
        "colab": {
          "base_uri": "https://localhost:8080/"
        },
        "id": "OFefZjbxwD2h",
        "outputId": "c81f0845-adaf-403e-b67a-a44ba4fdb8ec"
      },
      "execution_count": null,
      "outputs": [
        {
          "output_type": "stream",
          "name": "stdout",
          "text": [
            "Alice's Average Grade: 86.25\n"
          ]
        }
      ]
    },
    {
      "cell_type": "code",
      "source": [
        "'''Q.13  Create a class Rectangle with methods set_dimensions() to set the dimensions and area() to calculate the\n",
        "area....?'''\n",
        "#Ans\n",
        "class Rectangle:\n",
        "    def __init__(self, length=0, width=0):\n",
        "        self.length = length\n",
        "        self.width = width\n",
        "\n",
        "    def set_dimensions(self, length, width):\n",
        "        \"\"\"Method to set dimensions of the rectangle\"\"\"\n",
        "        self.length = length\n",
        "        self.width = width\n",
        "\n",
        "    def area(self):\n",
        "        \"\"\"Method to calculate the area\"\"\"\n",
        "        return self.length * self.width\n",
        "\n",
        "# Creating a Rectangle object\n",
        "rect = Rectangle()\n",
        "rect.set_dimensions(5, 10)\n",
        "\n",
        "# Calculating and displaying the area\n",
        "print(\"Rectangle Area:\", rect.area())  # Output: Rectangle Area: 50\n"
      ],
      "metadata": {
        "colab": {
          "base_uri": "https://localhost:8080/"
        },
        "id": "YJ1dZ0vlwj50",
        "outputId": "e736e823-2e6c-4375-f666-eae9becfc518"
      },
      "execution_count": null,
      "outputs": [
        {
          "output_type": "stream",
          "name": "stdout",
          "text": [
            "Rectangle Area: 50\n"
          ]
        }
      ]
    },
    {
      "cell_type": "code",
      "source": [
        "'''Q.14  Create a class Employee with a method calculate_salary() that computes the salary based on hours worked\n",
        "and hourly rate. Create a derived class Manager that adds a bonus to the salary...?'''\n",
        "#Ans\n",
        "class Employee:\n",
        "    def __init__(self, name, hours_worked, hourly_rate):\n",
        "        self.name = name\n",
        "        self.hours_worked = hours_worked\n",
        "        self.hourly_rate = hourly_rate\n",
        "\n",
        "    def calculate_salary(self):\n",
        "        \"\"\"Method to compute salary based on hours worked and hourly rate\"\"\"\n",
        "        return self.hours_worked * self.hourly_rate\n",
        "\n",
        "class Manager(Employee):  # Inheriting from Employee\n",
        "    def __init__(self, name, hours_worked, hourly_rate, bonus):\n",
        "        super().__init__(name, hours_worked, hourly_rate)\n",
        "        self.bonus = bonus\n",
        "\n",
        "    def calculate_salary(self):\n",
        "        \"\"\"Method to compute salary with bonus\"\"\"\n",
        "        return super().calculate_salary() + self.bonus\n",
        "\n",
        "# Creating objects\n",
        "employee = Employee(\"Alice\", 40, 20)\n",
        "manager = Manager(\"Bob\", 40, 30, 500)\n",
        "\n",
        "print(f\"{employee.name}'s Salary:\", employee.calculate_salary())  # Output: Alice's Salary: 800\n",
        "print(f\"{manager.name}'s Salary:\", manager.calculate_salary())  # Output: Bob's Salary: 1700\n",
        "\n"
      ],
      "metadata": {
        "colab": {
          "base_uri": "https://localhost:8080/"
        },
        "id": "yAiCrZ7iwxir",
        "outputId": "0bf83246-4df0-42d2-96da-41adf522f15a"
      },
      "execution_count": null,
      "outputs": [
        {
          "output_type": "stream",
          "name": "stdout",
          "text": [
            "Alice's Salary: 800\n",
            "Bob's Salary: 1700\n"
          ]
        }
      ]
    },
    {
      "cell_type": "code",
      "source": [
        "'''Q.15 . Create a class Product with attributes name, price, and quantity. Implement a method total_price() that\n",
        "calculates the total price of the product...?'''\n",
        "#Ans\n",
        "class Product:\n",
        "    def __init__(self, name, price, quantity):\n",
        "        self.name = name\n",
        "        self.price = price\n",
        "        self.quantity = quantity\n",
        "\n",
        "    def total_price(self):\n",
        "        \"\"\"Method to calculate total price\"\"\"\n",
        "        return self.price * self.quantity\n",
        "\n",
        "# Creating a Product object\n",
        "product1 = Product(\"Laptop\", 50000, 2)\n",
        "\n",
        "# Calculating and displaying the total price\n",
        "print(f\"Total price of {product1.name}: ₹{product1.total_price()}\")  # Output: Total price of Laptop: ₹100000\n"
      ],
      "metadata": {
        "colab": {
          "base_uri": "https://localhost:8080/"
        },
        "id": "VF6BPEBGxIeJ",
        "outputId": "0a9216f9-e4a2-47ae-ba09-17c9624cde1d"
      },
      "execution_count": null,
      "outputs": [
        {
          "output_type": "stream",
          "name": "stdout",
          "text": [
            "Total price of Laptop: ₹100000\n"
          ]
        }
      ]
    },
    {
      "cell_type": "code",
      "source": [
        "'''Q.16 . Create a class Animal with an abstract method sound(). Create two derived classes Cow and Sheep that\n",
        "implement the sound() method...?'''\n",
        "#Ans\n",
        "from abc import ABC, abstractmethod\n",
        "\n",
        "class Animal(ABC):  # Abstract class\n",
        "    @abstractmethod\n",
        "    def sound(self):\n",
        "        pass  # Enforcing method implementation in child classes\n",
        "\n",
        "class Cow(Animal):  # Derived class\n",
        "    def sound(self):\n",
        "        return \"Moo!\"\n",
        "\n",
        "class Sheep(Animal):  # Derived class\n",
        "    def sound(self):\n",
        "        return \"Baa!\"\n",
        "\n",
        "# Creating objects\n",
        "cow = Cow()\n",
        "sheep = Sheep()\n",
        "\n",
        "print(cow.sound())  # Output: Moo!\n",
        "print(sheep.sound())  # Output: Baa!\n"
      ],
      "metadata": {
        "colab": {
          "base_uri": "https://localhost:8080/"
        },
        "id": "-I1DiBpjxc2B",
        "outputId": "04da4b44-4c09-4a14-fd9c-c4d2b5a08681"
      },
      "execution_count": null,
      "outputs": [
        {
          "output_type": "stream",
          "name": "stdout",
          "text": [
            "Moo!\n",
            "Baa!\n"
          ]
        }
      ]
    },
    {
      "cell_type": "code",
      "source": [
        "'''Q.17  Create a class Book with attributes title, author, and year_published. Add a method get_book_info() that\n",
        "returns a formatted string with the book's details..?'''\n",
        "#Ans\n",
        "class Book:\n",
        "    def __init__(self, title, author, year_published):\n",
        "        self.title = title\n",
        "        self.author = author\n",
        "        self.year_published = year_published\n",
        "\n",
        "    def get_book_info(self):\n",
        "        \"\"\"Method to return book details in a formatted string\"\"\"\n",
        "        return f\"Title: {self.title}, Author: {self.author}, Year Published: {self.year_published}\"\n",
        "\n",
        "# Creating a Book object\n",
        "book1 = Book(\"To Kill a Mockingbird\", \"Harper Lee\", 1960)\n",
        "\n",
        "# Displaying book information\n",
        "print(book1.get_book_info())  # Output: Title: To Kill a Mockingbird, Author: Harper Lee, Year Published: 1960\n"
      ],
      "metadata": {
        "colab": {
          "base_uri": "https://localhost:8080/"
        },
        "id": "MA8mi4uCx2Lx",
        "outputId": "8eb55215-fb1b-4c90-fdc5-757764ad290c"
      },
      "execution_count": null,
      "outputs": [
        {
          "output_type": "stream",
          "name": "stdout",
          "text": [
            "Title: To Kill a Mockingbird, Author: Harper Lee, Year Published: 1960\n"
          ]
        }
      ]
    },
    {
      "cell_type": "code",
      "source": [
        "'''Q.18 Create a class House with attributes address and price. Create a derived class Mansion that adds an\n",
        "attribute number_of_rooms...?'''\n",
        "#Ans\n",
        "class House:\n",
        "    def __init__(self, address, price):\n",
        "        self.address = address\n",
        "        self.price = price\n",
        "\n",
        "    def display_info(self):\n",
        "        return f\"Address: {self.address}, Price: ₹{self.price}\"\n",
        "\n",
        "class Mansion(House):  # Inheriting from House\n",
        "    def __init__(self, address, price, number_of_rooms):\n",
        "        super().__init__(address, price)\n",
        "        self.number_of_rooms = number_of_rooms\n",
        "\n",
        "    def display_mansion_info(self):\n",
        "        return f\"{self.display_info()}, Number of Rooms: {self.number_of_rooms}\"\n",
        "\n",
        "# Creating objects\n",
        "house = House(\"123 Main St\", 5000000)\n",
        "mansion = Mansion(\"Luxury Estate, Mumbai\", 25000000, 10)\n",
        "\n",
        "print(house.display_info())  # Output: Address: 123 Main St, Price: ₹5000000\n",
        "print(mansion.display_mansion_info())  # Output: Address: Luxury Estate, Mumbai, Price: ₹25000000, Number of Rooms: 10\n"
      ],
      "metadata": {
        "colab": {
          "base_uri": "https://localhost:8080/"
        },
        "id": "qBgePAkNyVM7",
        "outputId": "bfae8c96-f360-48bc-f88a-db4e30990c9a"
      },
      "execution_count": null,
      "outputs": [
        {
          "output_type": "stream",
          "name": "stdout",
          "text": [
            "Address: 123 Main St, Price: ₹5000000\n",
            "Address: Luxury Estate, Mumbai, Price: ₹25000000, Number of Rooms: 10\n"
          ]
        }
      ]
    }
  ]
}